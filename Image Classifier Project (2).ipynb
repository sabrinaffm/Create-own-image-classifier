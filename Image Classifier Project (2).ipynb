{
 "cells": [
  {
   "cell_type": "markdown",
   "metadata": {},
   "source": [
    "# Developing an AI application\n",
    "\n",
    "Going forward, AI algorithms will be incorporated into more and more everyday applications. For example, you might want to include an image classifier in a smart phone app. To do this, you'd use a deep learning model trained on hundreds of thousands of images as part of the overall application architecture. A large part of software development in the future will be using these types of models as common parts of applications. \n",
    "\n",
    "In this project, you'll train an image classifier to recognize different species of flowers. You can imagine using something like this in a phone app that tells you the name of the flower your camera is looking at. In practice you'd train this classifier, then export it for use in your application. We'll be using [this dataset](http://www.robots.ox.ac.uk/~vgg/data/flowers/102/index.html) of 102 flower categories, you can see a few examples below. \n",
    "\n",
    "<img src='assets/Flowers.png' width=500px>\n",
    "\n",
    "The project is broken down into multiple steps:\n",
    "\n",
    "* Load and preprocess the image dataset\n",
    "* Train the image classifier on your dataset\n",
    "* Use the trained classifier to predict image content\n",
    "\n",
    "We'll lead you through each part which you'll implement in Python.\n",
    "\n",
    "When you've completed this project, you'll have an application that can be trained on any set of labeled images. Here your network will be learning about flowers and end up as a command line application. But, what you do with your new skills depends on your imagination and effort in building a dataset. For example, imagine an app where you take a picture of a car, it tells you what the make and model is, then looks up information about it. Go build your own dataset and make something new.\n",
    "\n",
    "First up is importing the packages you'll need. It's good practice to keep all the imports at the beginning of your code. As you work through this notebook and find you need to import a package, make sure to add the import up here."
   ]
  },
  {
   "cell_type": "code",
   "execution_count": 1,
   "metadata": {},
   "outputs": [],
   "source": [
    "# Imports here\n",
    "import torch\n",
    "from torch import nn\n",
    "from torch import optim\n",
    "import torch.nn.functional as F\n",
    "from torchvision import datasets, transforms, models\n",
    "import numpy as np\n",
    "\n",
    "from PIL import Image\n",
    "\n",
    "import matplotlib.pyplot as plt\n"
   ]
  },
  {
   "cell_type": "markdown",
   "metadata": {},
   "source": [
    "## Load the data\n",
    "\n",
    "Here you'll use `torchvision` to load the data ([documentation](http://pytorch.org/docs/0.3.0/torchvision/index.html)). The data should be included alongside this notebook, otherwise you can [download it here](https://s3.amazonaws.com/content.udacity-data.com/nd089/flower_data.tar.gz). The dataset is split into three parts, training, validation, and testing. For the training, you'll want to apply transformations such as random scaling, cropping, and flipping. This will help the network generalize leading to better performance. You'll also need to make sure the input data is resized to 224x224 pixels as required by the pre-trained networks.\n",
    "\n",
    "The validation and testing sets are used to measure the model's performance on data it hasn't seen yet. For this you don't want any scaling or rotation transformations, but you'll need to resize then crop the images to the appropriate size.\n",
    "\n",
    "The pre-trained networks you'll use were trained on the ImageNet dataset where each color channel was normalized separately. For all three sets you'll need to normalize the means and standard deviations of the images to what the network expects. For the means, it's `[0.485, 0.456, 0.406]` and for the standard deviations `[0.229, 0.224, 0.225]`, calculated from the ImageNet images.  These values will shift each color channel to be centered at 0 and range from -1 to 1.\n",
    " "
   ]
  },
  {
   "cell_type": "code",
   "execution_count": 2,
   "metadata": {},
   "outputs": [],
   "source": [
    "data_dir = 'flowers'\n",
    "train_dir = data_dir + '/train'\n",
    "valid_dir = data_dir + '/valid'\n",
    "test_dir = data_dir + '/test'"
   ]
  },
  {
   "cell_type": "code",
   "execution_count": 3,
   "metadata": {},
   "outputs": [],
   "source": [
    "# TODO: Define your transforms for the training, validation, and testing sets\n",
    "data_transforms = transforms.Compose([transforms.Resize(225),\n",
    "                                     transforms.CenterCrop(224),\n",
    "                                     transforms.ToTensor(),\n",
    "                                     transforms.Normalize([0.485, 0.456, 0.406],\n",
    "                                                          [0.229, 0.224, 0.225])])\n",
    "\n",
    "train_transforms = transforms.Compose([transforms.RandomRotation(30),\n",
    "                                     transforms.RandomResizedCrop(224),\n",
    "                                     transforms.RandomHorizontalFlip(),\n",
    "                                     transforms.ToTensor(),\n",
    "                                     transforms.Normalize([0.485, 0.456, 0.406],\n",
    "                                                          [0.229, 0.224, 0.225])])\n",
    "\n",
    "test_transforms = transforms.Compose([transforms.Resize(225),\n",
    "                                     transforms.CenterCrop(224),\n",
    "                                     transforms.ToTensor(),\n",
    "                                     transforms.Normalize([0.485, 0.456, 0.406],\n",
    "                                                          [0.229, 0.224, 0.225])])\n",
    "\n",
    "# TODO: Load the datasets with ImageFolder\n",
    "image_datasets = datasets.ImageFolder(data_dir, transform=data_transforms)\n",
    "\n",
    "train_datasets = datasets.ImageFolder(train_dir, transform=train_transforms)\n",
    "\n",
    "test_datasets = datasets.ImageFolder(test_dir, transform=test_transforms)\n",
    "\n",
    "# TODO: Using the image datasets and the trainforms, define the dataloaders\n",
    "dataloader = torch.utils.data.DataLoader(image_datasets, batch_size=256, shuffle=True)\n",
    "trainloader = torch.utils.data.DataLoader(train_datasets, batch_size=256, shuffle=True)\n",
    "testloader = torch.utils.data.DataLoader(test_datasets, batch_size=256)"
   ]
  },
  {
   "cell_type": "markdown",
   "metadata": {},
   "source": [
    "### Label mapping\n",
    "\n",
    "You'll also need to load in a mapping from category label to category name. You can find this in the file `cat_to_name.json`. It's a JSON object which you can read in with the [`json` module](https://docs.python.org/2/library/json.html). This will give you a dictionary mapping the integer encoded categories to the actual names of the flowers."
   ]
  },
  {
   "cell_type": "code",
   "execution_count": 4,
   "metadata": {},
   "outputs": [],
   "source": [
    "import json\n",
    "\n",
    "with open('cat_to_name.json', 'r') as f:\n",
    "    cat_to_name = json.load(f)"
   ]
  },
  {
   "cell_type": "markdown",
   "metadata": {},
   "source": [
    "# Building and training the classifier\n",
    "\n",
    "Now that the data is ready, it's time to build and train the classifier. As usual, you should use one of the pretrained models from `torchvision.models` to get the image features. Build and train a new feed-forward classifier using those features.\n",
    "\n",
    "We're going to leave this part up to you. Refer to [the rubric](https://review.udacity.com/#!/rubrics/1663/view) for guidance on successfully completing this section. Things you'll need to do:\n",
    "\n",
    "* Load a [pre-trained network](http://pytorch.org/docs/master/torchvision/models.html) (If you need a starting point, the VGG networks work great and are straightforward to use)\n",
    "* Define a new, untrained feed-forward network as a classifier, using ReLU activations and dropout\n",
    "* Train the classifier layers using backpropagation using the pre-trained network to get the features\n",
    "* Track the loss and accuracy on the validation set to determine the best hyperparameters\n",
    "\n",
    "We've left a cell open for you below, but use as many as you need. Our advice is to break the problem up into smaller parts you can run separately. Check that each part is doing what you expect, then move on to the next. You'll likely find that as you work through each part, you'll need to go back and modify your previous code. This is totally normal!\n",
    "\n",
    "When training make sure you're updating only the weights of the feed-forward network. You should be able to get the validation accuracy above 70% if you build everything right. Make sure to try different hyperparameters (learning rate, units in the classifier, epochs, etc) to find the best model. Save those hyperparameters to use as default values in the next part of the project.\n",
    "\n",
    "One last important tip if you're using the workspace to run your code: To avoid having your workspace disconnect during the long-running tasks in this notebook, please read in the earlier page in this lesson called Intro to\n",
    "GPU Workspaces about Keeping Your Session Active. You'll want to include code from the workspace_utils.py module.\n",
    "\n",
    "**Note for Workspace users:** If your network is over 1 GB when saved as a checkpoint, there might be issues with saving backups in your workspace. Typically this happens with wide dense layers after the convolutional layers. If your saved checkpoint is larger than 1 GB (you can open a terminal and check with `ls -lh`), you should reduce the size of your hidden layers and train again."
   ]
  },
  {
   "cell_type": "code",
   "execution_count": 5,
   "metadata": {},
   "outputs": [],
   "source": [
    "#Use GPU, if turned on\n",
    "device = torch.device(\"cuda\" if torch.cuda.is_available() else \"cpu\")"
   ]
  },
  {
   "cell_type": "code",
   "execution_count": 6,
   "metadata": {},
   "outputs": [
    {
     "name": "stderr",
     "output_type": "stream",
     "text": [
      "Downloading: \"https://download.pytorch.org/models/vgg19-dcbb9e9d.pth\" to /root/.torch/models/vgg19-dcbb9e9d.pth\n",
      "100%|██████████| 574673361/574673361 [00:13<00:00, 43865607.57it/s]\n"
     ]
    }
   ],
   "source": [
    "#Load model\n",
    "model = models.vgg19(pretrained=True)\n",
    "\n"
   ]
  },
  {
   "cell_type": "code",
   "execution_count": 7,
   "metadata": {},
   "outputs": [],
   "source": [
    "#Freeze parameters\n",
    "for param in model.parameters():\n",
    "    param.requires_grad = False"
   ]
  },
  {
   "cell_type": "code",
   "execution_count": 8,
   "metadata": {},
   "outputs": [
    {
     "data": {
      "text/plain": [
       "VGG(\n",
       "  (features): Sequential(\n",
       "    (0): Conv2d(3, 64, kernel_size=(3, 3), stride=(1, 1), padding=(1, 1))\n",
       "    (1): ReLU(inplace)\n",
       "    (2): Conv2d(64, 64, kernel_size=(3, 3), stride=(1, 1), padding=(1, 1))\n",
       "    (3): ReLU(inplace)\n",
       "    (4): MaxPool2d(kernel_size=2, stride=2, padding=0, dilation=1, ceil_mode=False)\n",
       "    (5): Conv2d(64, 128, kernel_size=(3, 3), stride=(1, 1), padding=(1, 1))\n",
       "    (6): ReLU(inplace)\n",
       "    (7): Conv2d(128, 128, kernel_size=(3, 3), stride=(1, 1), padding=(1, 1))\n",
       "    (8): ReLU(inplace)\n",
       "    (9): MaxPool2d(kernel_size=2, stride=2, padding=0, dilation=1, ceil_mode=False)\n",
       "    (10): Conv2d(128, 256, kernel_size=(3, 3), stride=(1, 1), padding=(1, 1))\n",
       "    (11): ReLU(inplace)\n",
       "    (12): Conv2d(256, 256, kernel_size=(3, 3), stride=(1, 1), padding=(1, 1))\n",
       "    (13): ReLU(inplace)\n",
       "    (14): Conv2d(256, 256, kernel_size=(3, 3), stride=(1, 1), padding=(1, 1))\n",
       "    (15): ReLU(inplace)\n",
       "    (16): Conv2d(256, 256, kernel_size=(3, 3), stride=(1, 1), padding=(1, 1))\n",
       "    (17): ReLU(inplace)\n",
       "    (18): MaxPool2d(kernel_size=2, stride=2, padding=0, dilation=1, ceil_mode=False)\n",
       "    (19): Conv2d(256, 512, kernel_size=(3, 3), stride=(1, 1), padding=(1, 1))\n",
       "    (20): ReLU(inplace)\n",
       "    (21): Conv2d(512, 512, kernel_size=(3, 3), stride=(1, 1), padding=(1, 1))\n",
       "    (22): ReLU(inplace)\n",
       "    (23): Conv2d(512, 512, kernel_size=(3, 3), stride=(1, 1), padding=(1, 1))\n",
       "    (24): ReLU(inplace)\n",
       "    (25): Conv2d(512, 512, kernel_size=(3, 3), stride=(1, 1), padding=(1, 1))\n",
       "    (26): ReLU(inplace)\n",
       "    (27): MaxPool2d(kernel_size=2, stride=2, padding=0, dilation=1, ceil_mode=False)\n",
       "    (28): Conv2d(512, 512, kernel_size=(3, 3), stride=(1, 1), padding=(1, 1))\n",
       "    (29): ReLU(inplace)\n",
       "    (30): Conv2d(512, 512, kernel_size=(3, 3), stride=(1, 1), padding=(1, 1))\n",
       "    (31): ReLU(inplace)\n",
       "    (32): Conv2d(512, 512, kernel_size=(3, 3), stride=(1, 1), padding=(1, 1))\n",
       "    (33): ReLU(inplace)\n",
       "    (34): Conv2d(512, 512, kernel_size=(3, 3), stride=(1, 1), padding=(1, 1))\n",
       "    (35): ReLU(inplace)\n",
       "    (36): MaxPool2d(kernel_size=2, stride=2, padding=0, dilation=1, ceil_mode=False)\n",
       "  )\n",
       "  (classifier): Sequential(\n",
       "    (0): Linear(in_features=25088, out_features=4096, bias=True)\n",
       "    (1): ReLU(inplace)\n",
       "    (2): Dropout(p=0.5)\n",
       "    (3): Linear(in_features=4096, out_features=4096, bias=True)\n",
       "    (4): ReLU(inplace)\n",
       "    (5): Dropout(p=0.5)\n",
       "    (6): Linear(in_features=4096, out_features=1000, bias=True)\n",
       "  )\n",
       ")"
      ]
     },
     "execution_count": 8,
     "metadata": {},
     "output_type": "execute_result"
    }
   ],
   "source": [
    "model"
   ]
  },
  {
   "cell_type": "code",
   "execution_count": 9,
   "metadata": {},
   "outputs": [],
   "source": [
    "#Create new classifier for VRR19 model\n",
    "classifier = nn.Sequential(nn.Linear(25088, 2048),\n",
    "                           nn.ReLU(),\n",
    "                           nn.Dropout(p=0.2),\n",
    "                           nn.Linear(2048, 102),\n",
    "                           nn.LogSoftmax(dim=1))\n",
    "\n",
    "model.classifier = classifier\n",
    "\n",
    "criterion = nn.NLLLoss()\n",
    "\n",
    "optimizer = optim.Adam(model.classifier.parameters(), lr=0.001)\n",
    "\n",
    "model.to(device);"
   ]
  },
  {
   "cell_type": "code",
   "execution_count": 10,
   "metadata": {},
   "outputs": [
    {
     "name": "stdout",
     "output_type": "stream",
     "text": [
      "Epoch 1/7.. Train loss: 6.290.. Test loss: 1.024.. Test accuracy: 0.046\n",
      "Epoch 1/7.. Train loss: 0.000.. Test loss: 2.518.. Test accuracy: 0.063\n",
      "Epoch 1/7.. Train loss: 0.000.. Test loss: 4.234.. Test accuracy: 0.089\n",
      "Epoch 1/7.. Train loss: 0.000.. Test loss: 5.310.. Test accuracy: 0.108\n",
      "Epoch 1/7.. Train loss: 4.950.. Test loss: 0.754.. Test accuracy: 0.072\n",
      "Epoch 1/7.. Train loss: 0.000.. Test loss: 1.529.. Test accuracy: 0.144\n",
      "Epoch 1/7.. Train loss: 0.000.. Test loss: 2.422.. Test accuracy: 0.241\n",
      "Epoch 1/7.. Train loss: 0.000.. Test loss: 3.116.. Test accuracy: 0.334\n",
      "Epoch 1/7.. Train loss: 3.121.. Test loss: 0.641.. Test accuracy: 0.085\n",
      "Epoch 1/7.. Train loss: 0.000.. Test loss: 1.168.. Test accuracy: 0.204\n",
      "Epoch 1/7.. Train loss: 0.000.. Test loss: 1.675.. Test accuracy: 0.346\n",
      "Epoch 1/7.. Train loss: 0.000.. Test loss: 2.330.. Test accuracy: 0.434\n",
      "Epoch 1/7.. Train loss: 2.253.. Test loss: 0.495.. Test accuracy: 0.119\n",
      "Epoch 1/7.. Train loss: 0.000.. Test loss: 0.892.. Test accuracy: 0.270\n",
      "Epoch 1/7.. Train loss: 0.000.. Test loss: 1.265.. Test accuracy: 0.429\n",
      "Epoch 1/7.. Train loss: 0.000.. Test loss: 1.681.. Test accuracy: 0.581\n",
      "Epoch 1/7.. Train loss: 1.787.. Test loss: 0.403.. Test accuracy: 0.146\n",
      "Epoch 1/7.. Train loss: 0.000.. Test loss: 0.689.. Test accuracy: 0.324\n",
      "Epoch 1/7.. Train loss: 0.000.. Test loss: 0.968.. Test accuracy: 0.498\n",
      "Epoch 1/7.. Train loss: 0.000.. Test loss: 1.362.. Test accuracy: 0.650\n",
      "Epoch 2/7.. Train loss: 1.396.. Test loss: 0.337.. Test accuracy: 0.154\n",
      "Epoch 2/7.. Train loss: 0.000.. Test loss: 0.605.. Test accuracy: 0.331\n",
      "Epoch 2/7.. Train loss: 0.000.. Test loss: 0.871.. Test accuracy: 0.508\n",
      "Epoch 2/7.. Train loss: 0.000.. Test loss: 1.213.. Test accuracy: 0.674\n",
      "Epoch 2/7.. Train loss: 1.272.. Test loss: 0.308.. Test accuracy: 0.157\n",
      "Epoch 2/7.. Train loss: 0.000.. Test loss: 0.587.. Test accuracy: 0.347\n",
      "Epoch 2/7.. Train loss: 0.000.. Test loss: 0.801.. Test accuracy: 0.533\n",
      "Epoch 2/7.. Train loss: 0.000.. Test loss: 1.166.. Test accuracy: 0.685\n",
      "Epoch 2/7.. Train loss: 1.203.. Test loss: 0.301.. Test accuracy: 0.168\n",
      "Epoch 2/7.. Train loss: 0.000.. Test loss: 0.519.. Test accuracy: 0.354\n",
      "Epoch 2/7.. Train loss: 0.000.. Test loss: 0.713.. Test accuracy: 0.544\n",
      "Epoch 2/7.. Train loss: 0.000.. Test loss: 1.031.. Test accuracy: 0.740\n",
      "Epoch 2/7.. Train loss: 1.182.. Test loss: 0.290.. Test accuracy: 0.170\n",
      "Epoch 2/7.. Train loss: 0.000.. Test loss: 0.471.. Test accuracy: 0.365\n",
      "Epoch 2/7.. Train loss: 0.000.. Test loss: 0.688.. Test accuracy: 0.554\n",
      "Epoch 2/7.. Train loss: 0.000.. Test loss: 1.033.. Test accuracy: 0.725\n",
      "Epoch 2/7.. Train loss: 1.075.. Test loss: 0.241.. Test accuracy: 0.182\n",
      "Epoch 2/7.. Train loss: 0.000.. Test loss: 0.443.. Test accuracy: 0.379\n",
      "Epoch 2/7.. Train loss: 0.000.. Test loss: 0.620.. Test accuracy: 0.575\n",
      "Epoch 2/7.. Train loss: 0.000.. Test loss: 0.895.. Test accuracy: 0.761\n",
      "Epoch 3/7.. Train loss: 0.909.. Test loss: 0.261.. Test accuracy: 0.184\n",
      "Epoch 3/7.. Train loss: 0.000.. Test loss: 0.453.. Test accuracy: 0.378\n",
      "Epoch 3/7.. Train loss: 0.000.. Test loss: 0.635.. Test accuracy: 0.578\n",
      "Epoch 3/7.. Train loss: 0.000.. Test loss: 0.937.. Test accuracy: 0.755\n",
      "Epoch 3/7.. Train loss: 0.862.. Test loss: 0.256.. Test accuracy: 0.176\n",
      "Epoch 3/7.. Train loss: 0.000.. Test loss: 0.449.. Test accuracy: 0.376\n",
      "Epoch 3/7.. Train loss: 0.000.. Test loss: 0.629.. Test accuracy: 0.577\n",
      "Epoch 3/7.. Train loss: 0.000.. Test loss: 0.921.. Test accuracy: 0.768\n",
      "Epoch 3/7.. Train loss: 0.808.. Test loss: 0.208.. Test accuracy: 0.188\n",
      "Epoch 3/7.. Train loss: 0.000.. Test loss: 0.403.. Test accuracy: 0.388\n",
      "Epoch 3/7.. Train loss: 0.000.. Test loss: 0.563.. Test accuracy: 0.594\n",
      "Epoch 3/7.. Train loss: 0.000.. Test loss: 0.833.. Test accuracy: 0.790\n",
      "Epoch 3/7.. Train loss: 0.818.. Test loss: 0.219.. Test accuracy: 0.188\n",
      "Epoch 3/7.. Train loss: 0.000.. Test loss: 0.373.. Test accuracy: 0.396\n",
      "Epoch 3/7.. Train loss: 0.000.. Test loss: 0.520.. Test accuracy: 0.603\n",
      "Epoch 3/7.. Train loss: 0.000.. Test loss: 0.805.. Test accuracy: 0.784\n",
      "Epoch 3/7.. Train loss: 0.832.. Test loss: 0.173.. Test accuracy: 0.200\n",
      "Epoch 3/7.. Train loss: 0.000.. Test loss: 0.368.. Test accuracy: 0.405\n",
      "Epoch 3/7.. Train loss: 0.000.. Test loss: 0.540.. Test accuracy: 0.607\n",
      "Epoch 3/7.. Train loss: 0.000.. Test loss: 0.817.. Test accuracy: 0.779\n",
      "Epoch 4/7.. Train loss: 0.774.. Test loss: 0.187.. Test accuracy: 0.198\n",
      "Epoch 4/7.. Train loss: 0.000.. Test loss: 0.328.. Test accuracy: 0.405\n",
      "Epoch 4/7.. Train loss: 0.000.. Test loss: 0.479.. Test accuracy: 0.609\n",
      "Epoch 4/7.. Train loss: 0.000.. Test loss: 0.748.. Test accuracy: 0.805\n",
      "Epoch 4/7.. Train loss: 0.799.. Test loss: 0.198.. Test accuracy: 0.186\n",
      "Epoch 4/7.. Train loss: 0.000.. Test loss: 0.327.. Test accuracy: 0.401\n",
      "Epoch 4/7.. Train loss: 0.000.. Test loss: 0.458.. Test accuracy: 0.615\n",
      "Epoch 4/7.. Train loss: 0.000.. Test loss: 0.810.. Test accuracy: 0.787\n",
      "Epoch 4/7.. Train loss: 0.695.. Test loss: 0.173.. Test accuracy: 0.198\n",
      "Epoch 4/7.. Train loss: 0.000.. Test loss: 0.349.. Test accuracy: 0.405\n",
      "Epoch 4/7.. Train loss: 0.000.. Test loss: 0.490.. Test accuracy: 0.618\n",
      "Epoch 4/7.. Train loss: 0.000.. Test loss: 0.767.. Test accuracy: 0.800\n",
      "Epoch 4/7.. Train loss: 0.650.. Test loss: 0.187.. Test accuracy: 0.190\n",
      "Epoch 4/7.. Train loss: 0.000.. Test loss: 0.330.. Test accuracy: 0.396\n",
      "Epoch 4/7.. Train loss: 0.000.. Test loss: 0.453.. Test accuracy: 0.605\n",
      "Epoch 4/7.. Train loss: 0.000.. Test loss: 0.748.. Test accuracy: 0.792\n",
      "Epoch 4/7.. Train loss: 0.739.. Test loss: 0.183.. Test accuracy: 0.197\n",
      "Epoch 4/7.. Train loss: 0.000.. Test loss: 0.321.. Test accuracy: 0.410\n",
      "Epoch 4/7.. Train loss: 0.000.. Test loss: 0.457.. Test accuracy: 0.618\n",
      "Epoch 4/7.. Train loss: 0.000.. Test loss: 0.745.. Test accuracy: 0.804\n",
      "Epoch 5/7.. Train loss: 0.634.. Test loss: 0.192.. Test accuracy: 0.188\n",
      "Epoch 5/7.. Train loss: 0.000.. Test loss: 0.313.. Test accuracy: 0.398\n",
      "Epoch 5/7.. Train loss: 0.000.. Test loss: 0.461.. Test accuracy: 0.607\n",
      "Epoch 5/7.. Train loss: 0.000.. Test loss: 0.686.. Test accuracy: 0.808\n",
      "Epoch 5/7.. Train loss: 0.724.. Test loss: 0.149.. Test accuracy: 0.206\n",
      "Epoch 5/7.. Train loss: 0.000.. Test loss: 0.275.. Test accuracy: 0.422\n",
      "Epoch 5/7.. Train loss: 0.000.. Test loss: 0.399.. Test accuracy: 0.634\n",
      "Epoch 5/7.. Train loss: 0.000.. Test loss: 0.698.. Test accuracy: 0.820\n",
      "Epoch 5/7.. Train loss: 0.629.. Test loss: 0.176.. Test accuracy: 0.199\n",
      "Epoch 5/7.. Train loss: 0.000.. Test loss: 0.305.. Test accuracy: 0.412\n",
      "Epoch 5/7.. Train loss: 0.000.. Test loss: 0.413.. Test accuracy: 0.631\n",
      "Epoch 5/7.. Train loss: 0.000.. Test loss: 0.680.. Test accuracy: 0.822\n",
      "Epoch 5/7.. Train loss: 0.651.. Test loss: 0.192.. Test accuracy: 0.196\n",
      "Epoch 5/7.. Train loss: 0.000.. Test loss: 0.331.. Test accuracy: 0.401\n",
      "Epoch 5/7.. Train loss: 0.000.. Test loss: 0.438.. Test accuracy: 0.619\n",
      "Epoch 5/7.. Train loss: 0.000.. Test loss: 0.676.. Test accuracy: 0.810\n",
      "Epoch 5/7.. Train loss: 0.659.. Test loss: 0.180.. Test accuracy: 0.198\n",
      "Epoch 5/7.. Train loss: 0.000.. Test loss: 0.304.. Test accuracy: 0.413\n",
      "Epoch 5/7.. Train loss: 0.000.. Test loss: 0.453.. Test accuracy: 0.615\n",
      "Epoch 5/7.. Train loss: 0.000.. Test loss: 0.759.. Test accuracy: 0.802\n",
      "Epoch 5/7.. Train loss: 0.631.. Test loss: 0.139.. Test accuracy: 0.212\n",
      "Epoch 5/7.. Train loss: 0.000.. Test loss: 0.273.. Test accuracy: 0.423\n",
      "Epoch 5/7.. Train loss: 0.000.. Test loss: 0.390.. Test accuracy: 0.637\n",
      "Epoch 5/7.. Train loss: 0.000.. Test loss: 0.694.. Test accuracy: 0.823\n",
      "Epoch 6/7.. Train loss: 0.587.. Test loss: 0.155.. Test accuracy: 0.199\n",
      "Epoch 6/7.. Train loss: 0.000.. Test loss: 0.266.. Test accuracy: 0.417\n",
      "Epoch 6/7.. Train loss: 0.000.. Test loss: 0.407.. Test accuracy: 0.623\n",
      "Epoch 6/7.. Train loss: 0.000.. Test loss: 0.691.. Test accuracy: 0.814\n",
      "Epoch 6/7.. Train loss: 0.591.. Test loss: 0.181.. Test accuracy: 0.193\n",
      "Epoch 6/7.. Train loss: 0.000.. Test loss: 0.300.. Test accuracy: 0.409\n",
      "Epoch 6/7.. Train loss: 0.000.. Test loss: 0.415.. Test accuracy: 0.625\n",
      "Epoch 6/7.. Train loss: 0.000.. Test loss: 0.690.. Test accuracy: 0.816\n",
      "Epoch 6/7.. Train loss: 0.622.. Test loss: 0.161.. Test accuracy: 0.203\n",
      "Epoch 6/7.. Train loss: 0.000.. Test loss: 0.303.. Test accuracy: 0.411\n",
      "Epoch 6/7.. Train loss: 0.000.. Test loss: 0.418.. Test accuracy: 0.630\n",
      "Epoch 6/7.. Train loss: 0.000.. Test loss: 0.700.. Test accuracy: 0.816\n",
      "Epoch 6/7.. Train loss: 0.602.. Test loss: 0.157.. Test accuracy: 0.205\n",
      "Epoch 6/7.. Train loss: 0.000.. Test loss: 0.270.. Test accuracy: 0.422\n",
      "Epoch 6/7.. Train loss: 0.000.. Test loss: 0.383.. Test accuracy: 0.640\n",
      "Epoch 6/7.. Train loss: 0.000.. Test loss: 0.677.. Test accuracy: 0.836\n",
      "Epoch 6/7.. Train loss: 0.574.. Test loss: 0.166.. Test accuracy: 0.197\n",
      "Epoch 6/7.. Train loss: 0.000.. Test loss: 0.307.. Test accuracy: 0.408\n",
      "Epoch 6/7.. Train loss: 0.000.. Test loss: 0.444.. Test accuracy: 0.613\n",
      "Epoch 6/7.. Train loss: 0.000.. Test loss: 0.749.. Test accuracy: 0.804\n",
      "Epoch 7/7.. Train loss: 0.579.. Test loss: 0.163.. Test accuracy: 0.201\n",
      "Epoch 7/7.. Train loss: 0.000.. Test loss: 0.319.. Test accuracy: 0.410\n",
      "Epoch 7/7.. Train loss: 0.000.. Test loss: 0.438.. Test accuracy: 0.624\n",
      "Epoch 7/7.. Train loss: 0.000.. Test loss: 0.754.. Test accuracy: 0.810\n",
      "Epoch 7/7.. Train loss: 0.620.. Test loss: 0.159.. Test accuracy: 0.204\n",
      "Epoch 7/7.. Train loss: 0.000.. Test loss: 0.314.. Test accuracy: 0.410\n",
      "Epoch 7/7.. Train loss: 0.000.. Test loss: 0.411.. Test accuracy: 0.630\n",
      "Epoch 7/7.. Train loss: 0.000.. Test loss: 0.739.. Test accuracy: 0.816\n",
      "Epoch 7/7.. Train loss: 0.600.. Test loss: 0.138.. Test accuracy: 0.205\n",
      "Epoch 7/7.. Train loss: 0.000.. Test loss: 0.273.. Test accuracy: 0.421\n",
      "Epoch 7/7.. Train loss: 0.000.. Test loss: 0.424.. Test accuracy: 0.628\n",
      "Epoch 7/7.. Train loss: 0.000.. Test loss: 0.799.. Test accuracy: 0.814\n",
      "Epoch 7/7.. Train loss: 0.549.. Test loss: 0.156.. Test accuracy: 0.204\n",
      "Epoch 7/7.. Train loss: 0.000.. Test loss: 0.283.. Test accuracy: 0.415\n",
      "Epoch 7/7.. Train loss: 0.000.. Test loss: 0.395.. Test accuracy: 0.631\n",
      "Epoch 7/7.. Train loss: 0.000.. Test loss: 0.692.. Test accuracy: 0.827\n",
      "Epoch 7/7.. Train loss: 0.615.. Test loss: 0.166.. Test accuracy: 0.203\n",
      "Epoch 7/7.. Train loss: 0.000.. Test loss: 0.288.. Test accuracy: 0.421\n",
      "Epoch 7/7.. Train loss: 0.000.. Test loss: 0.393.. Test accuracy: 0.636\n",
      "Epoch 7/7.. Train loss: 0.000.. Test loss: 0.732.. Test accuracy: 0.807\n"
     ]
    }
   ],
   "source": [
    "#train the new classifier\n",
    "epochs = 7\n",
    "steps = 0\n",
    "running_loss = 0\n",
    "print_every = 5\n",
    "\n",
    "for epoch in range(epochs):\n",
    "    for images, labels in trainloader:\n",
    "        steps += 1\n",
    "        \n",
    "        images, labels = images.to(device), labels.to(device)\n",
    "        \n",
    "        optimizer.zero_grad()\n",
    "        logps = model.forward(images)\n",
    "        loss = criterion(logps, labels)\n",
    "        loss.backward()\n",
    "        optimizer.step()\n",
    "        \n",
    "        running_loss += loss.item()\n",
    "        \n",
    "        if steps % print_every == 0:\n",
    "            model.eval()\n",
    "            test_loss = 0\n",
    "            accuracy = 0\n",
    "            with torch.no_grad():\n",
    "                for images, labels in testloader:\n",
    "                    \n",
    "                    images, labels = images.to(device), labels.to(device)\n",
    "                    \n",
    "                    logps = model(images)\n",
    "                    loss = criterion(logps, labels)\n",
    "                    \n",
    "                    test_loss += loss.item()\n",
    "                    \n",
    "                    ps = torch.exp(logps)\n",
    "                    top_ps, top_class = ps.topk(1, dim=1)\n",
    "                    equality = top_class == labels.view(*top_class.shape)\n",
    "                    accuracy += torch.mean(equality.type(torch.FloatTensor)).item()\n",
    "                    \n",
    "                    print(f\"Epoch {epoch+1}/{epochs}.. \"\n",
    "                          f\"Train loss: {running_loss/print_every:.3f}.. \"\n",
    "                          f\"Test loss: {test_loss/len(testloader):.3f}.. \"\n",
    "                          f\"Test accuracy: {accuracy/len(testloader):.3f}\")\n",
    "                    \n",
    "                    running_loss = 0\n",
    "                    model.train()"
   ]
  },
  {
   "cell_type": "markdown",
   "metadata": {},
   "source": [
    "## Testing your network\n",
    "\n",
    "It's good practice to test your trained network on test data, images the network has never seen either in training or validation. This will give you a good estimate for the model's performance on completely new images. Run the test images through the network and measure the accuracy, the same way you did validation. You should be able to reach around 70% accuracy on the test set if the model has been trained well."
   ]
  },
  {
   "cell_type": "code",
   "execution_count": 11,
   "metadata": {},
   "outputs": [
    {
     "name": "stdout",
     "output_type": "stream",
     "text": [
      "Test loss: 25.592.. Test accuracy: 0.004\n"
     ]
    }
   ],
   "source": [
    "#Testing the model, same as test above, but with another dataset\n",
    "model.eval()\n",
    "\n",
    "test_loss = 0\n",
    "accuracy = 0\n",
    "\n",
    "with torch.no_grad():\n",
    "    for images, labels in dataloader:\n",
    "        images, labels = images.to(device), labels.to(device)\n",
    "        \n",
    "        logps = model(images)\n",
    "        loss = criterion(logps, labels)\n",
    "        \n",
    "        test_loss += loss.item()\n",
    "        \n",
    "        ps = torch.exp(logps)\n",
    "        top_ps, top_class = ps.topk(1, dim=1)\n",
    "        equality = top_class == labels.view(*top_class.shape)\n",
    "        accuracy += torch.mean(equality.type(torch.FloatTensor)).item()\n",
    "    \n",
    "print(f\"Test loss: {test_loss/len(dataloader):.3f}.. \"\n",
    "      f\"Test accuracy: {accuracy/len(dataloader):.3f}\")\n",
    "\n",
    "running_loss = 0\n"
   ]
  },
  {
   "cell_type": "markdown",
   "metadata": {},
   "source": [
    "## Save the checkpoint\n",
    "\n",
    "Now that your network is trained, save the model so you can load it later for making predictions. You probably want to save other things such as the mapping of classes to indices which you get from one of the image datasets: `image_datasets['train'].class_to_idx`. You can attach this to the model as an attribute which makes inference easier later on.\n",
    "\n",
    "```model.class_to_idx = image_datasets['train'].class_to_idx```\n",
    "\n",
    "Remember that you'll want to completely rebuild the model later so you can use it for inference. Make sure to include any information you need in the checkpoint. If you want to load the model and keep training, you'll want to save the number of epochs as well as the optimizer state, `optimizer.state_dict`. You'll likely want to use this trained model in the next part of the project, so best to save it now."
   ]
  },
  {
   "cell_type": "code",
   "execution_count": 12,
   "metadata": {},
   "outputs": [],
   "source": [
    "# TODO: Save the checkpoint \n",
    "\n",
    "model.class_to_idx = train_datasets.class_to_idx\n",
    "\n",
    "checkpoint = {'input_size': 25088,\n",
    "              'output_size': 102,\n",
    "              'learning_rate': 0.001,\n",
    "              'epochs': 7,\n",
    "              'model': models.vgg19(pretrained=True),\n",
    "              'classifier': model.classifier,\n",
    "              'optimizer': optimizer.state_dict(),\n",
    "              'state_dict': model.state_dict(),\n",
    "              'class_to_idx': model.class_to_idx}\n",
    "\n",
    "torch.save(checkpoint, 'checkpoint.pth')"
   ]
  },
  {
   "cell_type": "markdown",
   "metadata": {},
   "source": [
    "## Loading the checkpoint\n",
    "\n",
    "At this point it's good to write a function that can load a checkpoint and rebuild the model. That way you can come back to this project and keep working on it without having to retrain the network."
   ]
  },
  {
   "cell_type": "code",
   "execution_count": 13,
   "metadata": {},
   "outputs": [],
   "source": [
    "# TODO: Write a function that loads a checkpoint and rebuilds the model\n",
    "def load_checkpoint(filepath):\n",
    "    checkpoint = torch.load(filepath)\n",
    "    input_size = checkpoint['input_size']\n",
    "    output_size = checkpoint['output_size']\n",
    "    epochs = checkpoint['epochs']\n",
    "    learning_rate = checkpoint['learning_rate']\n",
    "    model = checkpoint['model']\n",
    "    model.classifier = checkpoint['classifier']\n",
    "    optimizer.load_state_dict(checkpoint['optimizer'])\n",
    "    model.load_state_dict(checkpoint['state_dict'])\n",
    "    \n",
    "    return model"
   ]
  },
  {
   "cell_type": "code",
   "execution_count": 14,
   "metadata": {},
   "outputs": [
    {
     "name": "stdout",
     "output_type": "stream",
     "text": [
      "VGG(\n",
      "  (features): Sequential(\n",
      "    (0): Conv2d(3, 64, kernel_size=(3, 3), stride=(1, 1), padding=(1, 1))\n",
      "    (1): ReLU(inplace)\n",
      "    (2): Conv2d(64, 64, kernel_size=(3, 3), stride=(1, 1), padding=(1, 1))\n",
      "    (3): ReLU(inplace)\n",
      "    (4): MaxPool2d(kernel_size=2, stride=2, padding=0, dilation=1, ceil_mode=False)\n",
      "    (5): Conv2d(64, 128, kernel_size=(3, 3), stride=(1, 1), padding=(1, 1))\n",
      "    (6): ReLU(inplace)\n",
      "    (7): Conv2d(128, 128, kernel_size=(3, 3), stride=(1, 1), padding=(1, 1))\n",
      "    (8): ReLU(inplace)\n",
      "    (9): MaxPool2d(kernel_size=2, stride=2, padding=0, dilation=1, ceil_mode=False)\n",
      "    (10): Conv2d(128, 256, kernel_size=(3, 3), stride=(1, 1), padding=(1, 1))\n",
      "    (11): ReLU(inplace)\n",
      "    (12): Conv2d(256, 256, kernel_size=(3, 3), stride=(1, 1), padding=(1, 1))\n",
      "    (13): ReLU(inplace)\n",
      "    (14): Conv2d(256, 256, kernel_size=(3, 3), stride=(1, 1), padding=(1, 1))\n",
      "    (15): ReLU(inplace)\n",
      "    (16): Conv2d(256, 256, kernel_size=(3, 3), stride=(1, 1), padding=(1, 1))\n",
      "    (17): ReLU(inplace)\n",
      "    (18): MaxPool2d(kernel_size=2, stride=2, padding=0, dilation=1, ceil_mode=False)\n",
      "    (19): Conv2d(256, 512, kernel_size=(3, 3), stride=(1, 1), padding=(1, 1))\n",
      "    (20): ReLU(inplace)\n",
      "    (21): Conv2d(512, 512, kernel_size=(3, 3), stride=(1, 1), padding=(1, 1))\n",
      "    (22): ReLU(inplace)\n",
      "    (23): Conv2d(512, 512, kernel_size=(3, 3), stride=(1, 1), padding=(1, 1))\n",
      "    (24): ReLU(inplace)\n",
      "    (25): Conv2d(512, 512, kernel_size=(3, 3), stride=(1, 1), padding=(1, 1))\n",
      "    (26): ReLU(inplace)\n",
      "    (27): MaxPool2d(kernel_size=2, stride=2, padding=0, dilation=1, ceil_mode=False)\n",
      "    (28): Conv2d(512, 512, kernel_size=(3, 3), stride=(1, 1), padding=(1, 1))\n",
      "    (29): ReLU(inplace)\n",
      "    (30): Conv2d(512, 512, kernel_size=(3, 3), stride=(1, 1), padding=(1, 1))\n",
      "    (31): ReLU(inplace)\n",
      "    (32): Conv2d(512, 512, kernel_size=(3, 3), stride=(1, 1), padding=(1, 1))\n",
      "    (33): ReLU(inplace)\n",
      "    (34): Conv2d(512, 512, kernel_size=(3, 3), stride=(1, 1), padding=(1, 1))\n",
      "    (35): ReLU(inplace)\n",
      "    (36): MaxPool2d(kernel_size=2, stride=2, padding=0, dilation=1, ceil_mode=False)\n",
      "  )\n",
      "  (classifier): Sequential(\n",
      "    (0): Linear(in_features=25088, out_features=2048, bias=True)\n",
      "    (1): ReLU()\n",
      "    (2): Dropout(p=0.2)\n",
      "    (3): Linear(in_features=2048, out_features=102, bias=True)\n",
      "    (4): LogSoftmax()\n",
      "  )\n",
      ")\n"
     ]
    }
   ],
   "source": [
    "model = load_checkpoint('checkpoint.pth')\n",
    "print(model)"
   ]
  },
  {
   "cell_type": "markdown",
   "metadata": {},
   "source": [
    "# Inference for classification\n",
    "\n",
    "Now you'll write a function to use a trained network for inference. That is, you'll pass an image into the network and predict the class of the flower in the image. Write a function called `predict` that takes an image and a model, then returns the top $K$ most likely classes along with the probabilities. It should look like \n",
    "\n",
    "```python\n",
    "probs, classes = predict(image_path, model)\n",
    "print(probs)\n",
    "print(classes)\n",
    "> [ 0.01558163  0.01541934  0.01452626  0.01443549  0.01407339]\n",
    "> ['70', '3', '45', '62', '55']\n",
    "```\n",
    "\n",
    "First you'll need to handle processing the input image such that it can be used in your network. \n",
    "\n",
    "## Image Preprocessing\n",
    "\n",
    "You'll want to use `PIL` to load the image ([documentation](https://pillow.readthedocs.io/en/latest/reference/Image.html)). It's best to write a function that preprocesses the image so it can be used as input for the model. This function should process the images in the same manner used for training. \n",
    "\n",
    "First, resize the images where the shortest side is 256 pixels, keeping the aspect ratio. This can be done with the [`thumbnail`](http://pillow.readthedocs.io/en/3.1.x/reference/Image.html#PIL.Image.Image.thumbnail) or [`resize`](http://pillow.readthedocs.io/en/3.1.x/reference/Image.html#PIL.Image.Image.thumbnail) methods. Then you'll need to crop out the center 224x224 portion of the image.\n",
    "\n",
    "Color channels of images are typically encoded as integers 0-255, but the model expected floats 0-1. You'll need to convert the values. It's easiest with a Numpy array, which you can get from a PIL image like so `np_image = np.array(pil_image)`.\n",
    "\n",
    "As before, the network expects the images to be normalized in a specific way. For the means, it's `[0.485, 0.456, 0.406]` and for the standard deviations `[0.229, 0.224, 0.225]`. You'll want to subtract the means from each color channel, then divide by the standard deviation. \n",
    "\n",
    "And finally, PyTorch expects the color channel to be the first dimension but it's the third dimension in the PIL image and Numpy array. You can reorder dimensions using [`ndarray.transpose`](https://docs.scipy.org/doc/numpy-1.13.0/reference/generated/numpy.ndarray.transpose.html). The color channel needs to be first and retain the order of the other two dimensions."
   ]
  },
  {
   "cell_type": "code",
   "execution_count": 15,
   "metadata": {},
   "outputs": [
    {
     "ename": "NameError",
     "evalue": "name 'imshow' is not defined",
     "output_type": "error",
     "traceback": [
      "\u001b[0;31m---------------------------------------------------------------------------\u001b[0m",
      "\u001b[0;31mNameError\u001b[0m                                 Traceback (most recent call last)",
      "\u001b[0;32m<ipython-input-15-6e40017b3e80>\u001b[0m in \u001b[0;36m<module>\u001b[0;34m()\u001b[0m\n\u001b[1;32m     26\u001b[0m \u001b[0mprocessed_picture\u001b[0m \u001b[0;34m=\u001b[0m \u001b[0;34m(\u001b[0m\u001b[0mprocess_image\u001b[0m\u001b[0;34m(\u001b[0m\u001b[0mpicture\u001b[0m\u001b[0;34m)\u001b[0m\u001b[0;34m)\u001b[0m\u001b[0;34m\u001b[0m\u001b[0m\n\u001b[1;32m     27\u001b[0m \u001b[0;34m\u001b[0m\u001b[0m\n\u001b[0;32m---> 28\u001b[0;31m \u001b[0mimshow\u001b[0m\u001b[0;34m(\u001b[0m\u001b[0mtorch\u001b[0m\u001b[0;34m.\u001b[0m\u001b[0mFloatTensor\u001b[0m\u001b[0;34m(\u001b[0m\u001b[0mprocessed_picture\u001b[0m\u001b[0;34m)\u001b[0m\u001b[0;34m)\u001b[0m\u001b[0;34m\u001b[0m\u001b[0m\n\u001b[0m\u001b[1;32m     29\u001b[0m \u001b[0;34m\u001b[0m\u001b[0m\n\u001b[1;32m     30\u001b[0m     \u001b[0;31m# TODO: Process a PIL image for use in a PyTorch model\u001b[0m\u001b[0;34m\u001b[0m\u001b[0;34m\u001b[0m\u001b[0m\n",
      "\u001b[0;31mNameError\u001b[0m: name 'imshow' is not defined"
     ]
    }
   ],
   "source": [
    "def process_image(image):\n",
    "    \n",
    "    picture = Image.open(image)\n",
    "\n",
    "    picture = picture.resize((256, 256))\n",
    "\n",
    "    (left, upper, right, lower) = (16, 16, 240, 240)\n",
    "    cropped_picture = picture.crop((left, upper, right, lower))\n",
    "\n",
    "    np_picture = np.array(cropped_picture)\n",
    "\n",
    "    np_picture = np_picture / 255\n",
    "\n",
    "    mean = np.array([0.485, 0.456, 0.406])\n",
    "\n",
    "    std_dev = np.array([0.229, 0.224, 0.225])\n",
    "    std_picture = (np_picture - mean)/std_dev\n",
    "  \n",
    "    std_picture = np.transpose(std_picture, (2, 0, 1))\n",
    "    \n",
    "    return std_picture\n",
    "    \n",
    "    \n",
    "picture='flowers/test/1/image_06743.jpg'\n",
    "\n",
    "processed_picture = (process_image(picture))\n",
    "\n",
    "imshow(torch.FloatTensor(processed_picture)) \n",
    "    \n",
    "    # TODO: Process a PIL image for use in a PyTorch model"
   ]
  },
  {
   "cell_type": "markdown",
   "metadata": {},
   "source": [
    "To check your work, the function below converts a PyTorch tensor and displays it in the notebook. If your `process_image` function works, running the output through this function should return the original image (except for the cropped out portions)."
   ]
  },
  {
   "cell_type": "code",
   "execution_count": 16,
   "metadata": {},
   "outputs": [],
   "source": [
    "def imshow(image, ax=None, title=None):\n",
    "    \"\"\"Imshow for Tensor.\"\"\"\n",
    "    if ax is None:\n",
    "        fig, ax = plt.subplots()\n",
    "    \n",
    "    # PyTorch tensors assume the color channel is the first dimension\n",
    "    # but matplotlib assumes is the third dimension\n",
    "    image = image.numpy().transpose((1, 2, 0))\n",
    "    \n",
    "    # Undo preprocessing\n",
    "    mean = np.array([0.485, 0.456, 0.406])\n",
    "    std = np.array([0.229, 0.224, 0.225])\n",
    "    image = std * image + mean\n",
    "    \n",
    "    # Image needs to be clipped between 0 and 1 or it looks like noise when displayed\n",
    "    image = np.clip(image, 0, 1)\n",
    "        \n",
    "    ax.imshow(image)\n",
    "    \n",
    "    return ax\n"
   ]
  },
  {
   "cell_type": "markdown",
   "metadata": {},
   "source": [
    "## Class Prediction\n",
    "\n",
    "Once you can get images in the correct format, it's time to write a function for making predictions with your model. A common practice is to predict the top 5 or so (usually called top-$K$) most probable classes. You'll want to calculate the class probabilities then find the $K$ largest values.\n",
    "\n",
    "To get the top $K$ largest values in a tensor use [`x.topk(k)`](http://pytorch.org/docs/master/torch.html#torch.topk). This method returns both the highest `k` probabilities and the indices of those probabilities corresponding to the classes. You need to convert from these indices to the actual class labels using `class_to_idx` which hopefully you added to the model or from an `ImageFolder` you used to load the data ([see here](#Save-the-checkpoint)). Make sure to invert the dictionary so you get a mapping from index to class as well.\n",
    "\n",
    "Again, this method should take a path to an image and a model checkpoint, then return the probabilities and classes.\n",
    "\n",
    "```python\n",
    "probs, classes = predict(image_path, model)\n",
    "print(probs)\n",
    "print(classes)\n",
    "> [ 0.01558163  0.01541934  0.01452626  0.01443549  0.01407339]\n",
    "> ['70', '3', '45', '62', '55']\n",
    "```"
   ]
  },
  {
   "cell_type": "code",
   "execution_count": 17,
   "metadata": {},
   "outputs": [],
   "source": [
    "def predict(image_path, model, topk=5):\n",
    "    \n",
    "    model.eval()\n",
    "    model.to(device)\n",
    "    \n",
    "    pictures = process_image(image_path)\n",
    "    torch.from_numpy(pictures).type(torch.FloatTensor)\n",
    "    pictures = pictures.unsqueeze_(0)\n",
    "    \n",
    "    pictures.to(device)\n",
    "    \n",
    "    with torch.no_grad():\n",
    "        logps = model.forward(pictures)\n",
    "        ps = torch.exp(logps)\n",
    "        \n",
    "        probs, classes = ps.topk(topk,dim=1)\n",
    "    \n",
    "    top_p = probs.tolist()[0]\n",
    "    classes = classes.cpu().numpy()[0].tolist()\n",
    "    class_to_idx = model.class_to_idx\n",
    "    \n",
    "    idx_to_class = {v:k for k, v in model.class_to_idx.items()}\n",
    "    \n",
    "    return top_p, classes"
   ]
  },
  {
   "cell_type": "code",
   "execution_count": 22,
   "metadata": {},
   "outputs": [
    {
     "ename": "NameError",
     "evalue": "name 'top_p' is not defined",
     "output_type": "error",
     "traceback": [
      "\u001b[0;31m---------------------------------------------------------------------------\u001b[0m",
      "\u001b[0;31mNameError\u001b[0m                                 Traceback (most recent call last)",
      "\u001b[0;32m<ipython-input-22-13c66c7b07d1>\u001b[0m in \u001b[0;36m<module>\u001b[0;34m()\u001b[0m\n\u001b[0;32m----> 1\u001b[0;31m \u001b[0mprint\u001b[0m\u001b[0;34m(\u001b[0m\u001b[0mtop_p\u001b[0m\u001b[0;34m)\u001b[0m\u001b[0;34m\u001b[0m\u001b[0m\n\u001b[0m\u001b[1;32m      2\u001b[0m \u001b[0mprint\u001b[0m\u001b[0;34m(\u001b[0m\u001b[0mclasses\u001b[0m\u001b[0;34m)\u001b[0m\u001b[0;34m\u001b[0m\u001b[0m\n",
      "\u001b[0;31mNameError\u001b[0m: name 'top_p' is not defined"
     ]
    }
   ],
   "source": [
    "print(top_p)\n",
    "print(classes)"
   ]
  },
  {
   "cell_type": "markdown",
   "metadata": {},
   "source": [
    "## Sanity Checking\n",
    "\n",
    "Now that you can use a trained model for predictions, check to make sure it makes sense. Even if the testing accuracy is high, it's always good to check that there aren't obvious bugs. Use `matplotlib` to plot the probabilities for the top 5 classes as a bar graph, along with the input image. It should look like this:\n",
    "\n",
    "<img src='assets/inference_example.png' width=300px>\n",
    "\n",
    "You can convert from the class integer encoding to actual flower names with the `cat_to_name.json` file (should have been loaded earlier in the notebook). To show a PyTorch tensor as an image, use the `imshow` function defined above."
   ]
  },
  {
   "cell_type": "code",
   "execution_count": 19,
   "metadata": {},
   "outputs": [
    {
     "ename": "AttributeError",
     "evalue": "'numpy.ndarray' object has no attribute 'numpy'",
     "output_type": "error",
     "traceback": [
      "\u001b[0;31m---------------------------------------------------------------------------\u001b[0m",
      "\u001b[0;31mAttributeError\u001b[0m                            Traceback (most recent call last)",
      "\u001b[0;32m<ipython-input-19-b00ac1ab039f>\u001b[0m in \u001b[0;36m<module>\u001b[0;34m()\u001b[0m\n\u001b[1;32m      5\u001b[0m \u001b[0max1\u001b[0m \u001b[0;34m=\u001b[0m \u001b[0mfig\u001b[0m\u001b[0;34m.\u001b[0m\u001b[0madd_axes\u001b[0m\u001b[0;34m(\u001b[0m\u001b[0;34m[\u001b[0m\u001b[0;36m0\u001b[0m\u001b[0;34m,\u001b[0m \u001b[0;36m0.55\u001b[0m\u001b[0;34m,\u001b[0m \u001b[0;36m.4\u001b[0m\u001b[0;34m,\u001b[0m \u001b[0;36m.4\u001b[0m\u001b[0;34m]\u001b[0m\u001b[0;34m)\u001b[0m\u001b[0;34m\u001b[0m\u001b[0m\n\u001b[1;32m      6\u001b[0m \u001b[0mresult\u001b[0m \u001b[0;34m=\u001b[0m \u001b[0mprocess_image\u001b[0m\u001b[0;34m(\u001b[0m\u001b[0mimage_path\u001b[0m\u001b[0;34m)\u001b[0m\u001b[0;34m\u001b[0m\u001b[0m\n\u001b[0;32m----> 7\u001b[0;31m \u001b[0max\u001b[0m \u001b[0;34m=\u001b[0m \u001b[0mimshow\u001b[0m\u001b[0;34m(\u001b[0m\u001b[0mresult\u001b[0m\u001b[0;34m,\u001b[0m \u001b[0max1\u001b[0m\u001b[0;34m)\u001b[0m\u001b[0;34m\u001b[0m\u001b[0m\n\u001b[0m\u001b[1;32m      8\u001b[0m \u001b[0max\u001b[0m\u001b[0;34m.\u001b[0m\u001b[0maxis\u001b[0m\u001b[0;34m(\u001b[0m\u001b[0;34m'off'\u001b[0m\u001b[0;34m)\u001b[0m\u001b[0;34m\u001b[0m\u001b[0m\n\u001b[1;32m      9\u001b[0m \u001b[0max\u001b[0m\u001b[0;34m.\u001b[0m\u001b[0mset_title\u001b[0m\u001b[0;34m(\u001b[0m\u001b[0mcat_to_name\u001b[0m\u001b[0;34m[\u001b[0m\u001b[0mstr\u001b[0m\u001b[0;34m(\u001b[0m\u001b[0;36m88\u001b[0m\u001b[0;34m)\u001b[0m\u001b[0;34m]\u001b[0m\u001b[0;34m)\u001b[0m\u001b[0;34m\u001b[0m\u001b[0m\n",
      "\u001b[0;32m<ipython-input-16-cf7d5a1f96e4>\u001b[0m in \u001b[0;36mimshow\u001b[0;34m(image, ax, title)\u001b[0m\n\u001b[1;32m      6\u001b[0m     \u001b[0;31m# PyTorch tensors assume the color channel is the first dimension\u001b[0m\u001b[0;34m\u001b[0m\u001b[0;34m\u001b[0m\u001b[0m\n\u001b[1;32m      7\u001b[0m     \u001b[0;31m# but matplotlib assumes is the third dimension\u001b[0m\u001b[0;34m\u001b[0m\u001b[0;34m\u001b[0m\u001b[0m\n\u001b[0;32m----> 8\u001b[0;31m     \u001b[0mimage\u001b[0m \u001b[0;34m=\u001b[0m \u001b[0mimage\u001b[0m\u001b[0;34m.\u001b[0m\u001b[0mnumpy\u001b[0m\u001b[0;34m(\u001b[0m\u001b[0;34m)\u001b[0m\u001b[0;34m.\u001b[0m\u001b[0mtranspose\u001b[0m\u001b[0;34m(\u001b[0m\u001b[0;34m(\u001b[0m\u001b[0;36m1\u001b[0m\u001b[0;34m,\u001b[0m \u001b[0;36m2\u001b[0m\u001b[0;34m,\u001b[0m \u001b[0;36m0\u001b[0m\u001b[0;34m)\u001b[0m\u001b[0;34m)\u001b[0m\u001b[0;34m\u001b[0m\u001b[0m\n\u001b[0m\u001b[1;32m      9\u001b[0m \u001b[0;34m\u001b[0m\u001b[0m\n\u001b[1;32m     10\u001b[0m     \u001b[0;31m# Undo preprocessing\u001b[0m\u001b[0;34m\u001b[0m\u001b[0;34m\u001b[0m\u001b[0m\n",
      "\u001b[0;31mAttributeError\u001b[0m: 'numpy.ndarray' object has no attribute 'numpy'"
     ]
    },
    {
     "data": {
      "image/png": "[encoded data removed]",
      "text/plain": [
       "<matplotlib.figure.Figure at 0x7fe0308e9898>"
      ]
     },
     "metadata": {
      "needs_background": "light"
     },
     "output_type": "display_data"
    }
   ],
   "source": [
    "# TODO: Display an image along with the top 5 classes\n",
    "\n",
    "image_path = train_dir+\"/88/image_00566.jpg\"\n",
    "fig = plt.figure(figsize = [12,12])\n",
    "ax1 = fig.add_axes([0, 0.55, .4, .4])\n",
    "result = process_image(image_path)\n",
    "ax = imshow(result, ax1)\n",
    "ax.axis('off')\n",
    "ax.set_title(cat_to_name[str(88)])\n",
    "\n",
    "predictions, classes = predict(image_path, model)\n",
    "names = [cat_to_name[str(c)] for c in classes]\n",
    "\n",
    "fig.add_axes([0, .1, .4, .4])\n",
    "y_pos = np.arange(len(classes))\n",
    "plt.barh(y_pos, predictions, align='center')\n",
    "plt.yticks(y_pos, names)\n",
    "plt.xlabel('Probabilities')\n",
    "plt.show()"
   ]
  }
 ],
 "metadata": {
  "kernelspec": {
   "display_name": "Python 3",
   "language": "python",
   "name": "python3"
  },
  "language_info": {
   "codemirror_mode": {
    "name": "ipython",
    "version": 3
   },
   "file_extension": ".py",
   "mimetype": "text/x-python",
   "name": "python",
   "nbconvert_exporter": "python",
   "pygments_lexer": "ipython3",
   "version": "3.6.3"
  }
 },
 "nbformat": 4,
 "nbformat_minor": 2
}
